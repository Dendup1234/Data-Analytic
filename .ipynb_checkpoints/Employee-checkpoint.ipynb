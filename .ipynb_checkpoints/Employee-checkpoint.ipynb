{
 "cells": [
  {
   "cell_type": "code",
   "execution_count": 1,
   "id": "58204e26-5aa4-4709-8cfd-48b82a129cf3",
   "metadata": {},
   "outputs": [],
   "source": [
    "import pandas as pd\n",
    "import matplotlib.pyplot as plt\n",
    "import seaborn as sns"
   ]
  },
  {
   "cell_type": "code",
   "execution_count": 3,
   "id": "66b460c8-2bf1-44b6-8cd0-c7275da84b0a",
   "metadata": {},
   "outputs": [],
   "source": [
    "df = pd.read_csv(\"Data_csv.csv\")"
   ]
  },
  {
   "cell_type": "code",
   "execution_count": 5,
   "id": "58feb957-cd4f-4dde-a69e-8f8ab7b7d8db",
   "metadata": {},
   "outputs": [
    {
     "data": {
      "text/html": [
       "<div>\n",
       "<style scoped>\n",
       "    .dataframe tbody tr th:only-of-type {\n",
       "        vertical-align: middle;\n",
       "    }\n",
       "\n",
       "    .dataframe tbody tr th {\n",
       "        vertical-align: top;\n",
       "    }\n",
       "\n",
       "    .dataframe thead th {\n",
       "        text-align: right;\n",
       "    }\n",
       "</style>\n",
       "<table border=\"1\" class=\"dataframe\">\n",
       "  <thead>\n",
       "    <tr style=\"text-align: right;\">\n",
       "      <th></th>\n",
       "      <th>Employee_ID</th>\n",
       "      <th>Age</th>\n",
       "      <th>Salary</th>\n",
       "      <th>Experience_Years</th>\n",
       "      <th>Gender</th>\n",
       "      <th>Deparment</th>\n",
       "    </tr>\n",
       "  </thead>\n",
       "  <tbody>\n",
       "    <tr>\n",
       "      <th>0</th>\n",
       "      <td>1</td>\n",
       "      <td>51.0</td>\n",
       "      <td>48795.0</td>\n",
       "      <td>4.0</td>\n",
       "      <td>Male</td>\n",
       "      <td>IT</td>\n",
       "    </tr>\n",
       "    <tr>\n",
       "      <th>1</th>\n",
       "      <td>2</td>\n",
       "      <td>35.0</td>\n",
       "      <td>82588.0</td>\n",
       "      <td>6.0</td>\n",
       "      <td>Male</td>\n",
       "      <td>IT</td>\n",
       "    </tr>\n",
       "    <tr>\n",
       "      <th>2</th>\n",
       "      <td>3</td>\n",
       "      <td>37.0</td>\n",
       "      <td>84713.0</td>\n",
       "      <td>3.0</td>\n",
       "      <td>Female</td>\n",
       "      <td>IT</td>\n",
       "    </tr>\n",
       "    <tr>\n",
       "      <th>3</th>\n",
       "      <td>4</td>\n",
       "      <td>60.0</td>\n",
       "      <td>52211.0</td>\n",
       "      <td>6.0</td>\n",
       "      <td>Female</td>\n",
       "      <td>ICT</td>\n",
       "    </tr>\n",
       "    <tr>\n",
       "      <th>4</th>\n",
       "      <td>5</td>\n",
       "      <td>34.0</td>\n",
       "      <td>57951.0</td>\n",
       "      <td>9.0</td>\n",
       "      <td>Female</td>\n",
       "      <td>IT</td>\n",
       "    </tr>\n",
       "    <tr>\n",
       "      <th>...</th>\n",
       "      <td>...</td>\n",
       "      <td>...</td>\n",
       "      <td>...</td>\n",
       "      <td>...</td>\n",
       "      <td>...</td>\n",
       "      <td>...</td>\n",
       "    </tr>\n",
       "    <tr>\n",
       "      <th>95</th>\n",
       "      <td>96</td>\n",
       "      <td>25.0</td>\n",
       "      <td>93535.0</td>\n",
       "      <td>4.0</td>\n",
       "      <td>Female</td>\n",
       "      <td>EG</td>\n",
       "    </tr>\n",
       "    <tr>\n",
       "      <th>96</th>\n",
       "      <td>97</td>\n",
       "      <td>51.0</td>\n",
       "      <td>82807.0</td>\n",
       "      <td>11.0</td>\n",
       "      <td>Male</td>\n",
       "      <td>IT</td>\n",
       "    </tr>\n",
       "    <tr>\n",
       "      <th>97</th>\n",
       "      <td>98</td>\n",
       "      <td>61.0</td>\n",
       "      <td>200000.0</td>\n",
       "      <td>10.0</td>\n",
       "      <td>Female</td>\n",
       "      <td>ICT</td>\n",
       "    </tr>\n",
       "    <tr>\n",
       "      <th>98</th>\n",
       "      <td>99</td>\n",
       "      <td>56.0</td>\n",
       "      <td>44195.0</td>\n",
       "      <td>8.0</td>\n",
       "      <td>Male</td>\n",
       "      <td>Civil</td>\n",
       "    </tr>\n",
       "    <tr>\n",
       "      <th>99</th>\n",
       "      <td>100</td>\n",
       "      <td>49.0</td>\n",
       "      <td>98006.0</td>\n",
       "      <td>7.0</td>\n",
       "      <td>Male</td>\n",
       "      <td>ICT</td>\n",
       "    </tr>\n",
       "  </tbody>\n",
       "</table>\n",
       "<p>100 rows × 6 columns</p>\n",
       "</div>"
      ],
      "text/plain": [
       "    Employee_ID   Age    Salary  Experience_Years  Gender Deparment\n",
       "0             1  51.0   48795.0               4.0    Male        IT\n",
       "1             2  35.0   82588.0               6.0    Male        IT\n",
       "2             3  37.0   84713.0               3.0  Female        IT\n",
       "3             4  60.0   52211.0               6.0  Female       ICT\n",
       "4             5  34.0   57951.0               9.0  Female        IT\n",
       "..          ...   ...       ...               ...     ...       ...\n",
       "95           96  25.0   93535.0               4.0  Female        EG\n",
       "96           97  51.0   82807.0              11.0    Male        IT\n",
       "97           98  61.0  200000.0              10.0  Female       ICT\n",
       "98           99  56.0   44195.0               8.0    Male     Civil\n",
       "99          100  49.0   98006.0               7.0    Male       ICT\n",
       "\n",
       "[100 rows x 6 columns]"
      ]
     },
     "execution_count": 5,
     "metadata": {},
     "output_type": "execute_result"
    }
   ],
   "source": [
    "df"
   ]
  },
  {
   "cell_type": "code",
   "execution_count": 7,
   "id": "ceba02fa-d06b-430f-8252-9c372f598389",
   "metadata": {},
   "outputs": [
    {
     "data": {
      "text/plain": [
       "Index(['Employee_ID', 'Age', 'Salary', 'Experience_Years', 'Gender',\n",
       "       'Deparment'],\n",
       "      dtype='object')"
      ]
     },
     "execution_count": 7,
     "metadata": {},
     "output_type": "execute_result"
    }
   ],
   "source": [
    "df.columns"
   ]
  },
  {
   "cell_type": "code",
   "execution_count": 9,
   "id": "833b53f8-e10b-4d9c-b0e4-56e5bc7a6de4",
   "metadata": {},
   "outputs": [
    {
     "data": {
      "text/plain": [
       "dtype('float64')"
      ]
     },
     "execution_count": 9,
     "metadata": {},
     "output_type": "execute_result"
    }
   ],
   "source": [
    "df['Age'].dtype"
   ]
  },
  {
   "cell_type": "code",
   "execution_count": 11,
   "id": "ccdeba71-3e84-45d5-a2f2-7dc9bc3bae0e",
   "metadata": {},
   "outputs": [
    {
     "data": {
      "text/plain": [
       "Employee_ID         0\n",
       "Age                 2\n",
       "Salary              2\n",
       "Experience_Years    2\n",
       "Gender              0\n",
       "Deparment           2\n",
       "dtype: int64"
      ]
     },
     "execution_count": 11,
     "metadata": {},
     "output_type": "execute_result"
    }
   ],
   "source": [
    "# To check the null value in the data frame\n",
    "df.isnull().sum()"
   ]
  },
  {
   "cell_type": "code",
   "execution_count": 21,
   "id": "62676f6c-774d-4509-8963-94054b792baa",
   "metadata": {},
   "outputs": [
    {
     "data": {
      "text/html": [
       "<div>\n",
       "<style scoped>\n",
       "    .dataframe tbody tr th:only-of-type {\n",
       "        vertical-align: middle;\n",
       "    }\n",
       "\n",
       "    .dataframe tbody tr th {\n",
       "        vertical-align: top;\n",
       "    }\n",
       "\n",
       "    .dataframe thead th {\n",
       "        text-align: right;\n",
       "    }\n",
       "</style>\n",
       "<table border=\"1\" class=\"dataframe\">\n",
       "  <thead>\n",
       "    <tr style=\"text-align: right;\">\n",
       "      <th></th>\n",
       "      <th>Age</th>\n",
       "      <th>Salary</th>\n",
       "      <th>Experience_Years</th>\n",
       "    </tr>\n",
       "  </thead>\n",
       "  <tbody>\n",
       "    <tr>\n",
       "      <th>0</th>\n",
       "      <td>51.0</td>\n",
       "      <td>48795.0</td>\n",
       "      <td>4.0</td>\n",
       "    </tr>\n",
       "    <tr>\n",
       "      <th>1</th>\n",
       "      <td>35.0</td>\n",
       "      <td>82588.0</td>\n",
       "      <td>6.0</td>\n",
       "    </tr>\n",
       "    <tr>\n",
       "      <th>2</th>\n",
       "      <td>37.0</td>\n",
       "      <td>84713.0</td>\n",
       "      <td>3.0</td>\n",
       "    </tr>\n",
       "    <tr>\n",
       "      <th>3</th>\n",
       "      <td>60.0</td>\n",
       "      <td>52211.0</td>\n",
       "      <td>6.0</td>\n",
       "    </tr>\n",
       "    <tr>\n",
       "      <th>4</th>\n",
       "      <td>34.0</td>\n",
       "      <td>57951.0</td>\n",
       "      <td>9.0</td>\n",
       "    </tr>\n",
       "    <tr>\n",
       "      <th>...</th>\n",
       "      <td>...</td>\n",
       "      <td>...</td>\n",
       "      <td>...</td>\n",
       "    </tr>\n",
       "    <tr>\n",
       "      <th>95</th>\n",
       "      <td>25.0</td>\n",
       "      <td>93535.0</td>\n",
       "      <td>4.0</td>\n",
       "    </tr>\n",
       "    <tr>\n",
       "      <th>96</th>\n",
       "      <td>51.0</td>\n",
       "      <td>82807.0</td>\n",
       "      <td>11.0</td>\n",
       "    </tr>\n",
       "    <tr>\n",
       "      <th>97</th>\n",
       "      <td>61.0</td>\n",
       "      <td>200000.0</td>\n",
       "      <td>10.0</td>\n",
       "    </tr>\n",
       "    <tr>\n",
       "      <th>98</th>\n",
       "      <td>56.0</td>\n",
       "      <td>44195.0</td>\n",
       "      <td>8.0</td>\n",
       "    </tr>\n",
       "    <tr>\n",
       "      <th>99</th>\n",
       "      <td>49.0</td>\n",
       "      <td>98006.0</td>\n",
       "      <td>7.0</td>\n",
       "    </tr>\n",
       "  </tbody>\n",
       "</table>\n",
       "<p>100 rows × 3 columns</p>\n",
       "</div>"
      ],
      "text/plain": [
       "     Age    Salary  Experience_Years\n",
       "0   51.0   48795.0               4.0\n",
       "1   35.0   82588.0               6.0\n",
       "2   37.0   84713.0               3.0\n",
       "3   60.0   52211.0               6.0\n",
       "4   34.0   57951.0               9.0\n",
       "..   ...       ...               ...\n",
       "95  25.0   93535.0               4.0\n",
       "96  51.0   82807.0              11.0\n",
       "97  61.0  200000.0              10.0\n",
       "98  56.0   44195.0               8.0\n",
       "99  49.0   98006.0               7.0\n",
       "\n",
       "[100 rows x 3 columns]"
      ]
     },
     "execution_count": 21,
     "metadata": {},
     "output_type": "execute_result"
    }
   ],
   "source": [
    "numerical_category = df[['Age','Salary','Experience_Years']]\n",
    "numerical_category"
   ]
  },
  {
   "cell_type": "code",
   "execution_count": 25,
   "id": "3c85607d-ad6b-4e05-ac08-2ea147d9f871",
   "metadata": {},
   "outputs": [
    {
     "data": {
      "text/plain": [
       "Age                 0.049242\n",
       "Salary              2.211647\n",
       "Experience_Years   -0.082949\n",
       "dtype: float64"
      ]
     },
     "execution_count": 25,
     "metadata": {},
     "output_type": "execute_result"
    }
   ],
   "source": [
    "numerical_category.skew(axis=0,skipna = True)"
   ]
  },
  {
   "cell_type": "code",
   "execution_count": 27,
   "id": "639cfd9c-ad1c-4d63-80a4-779d9645bfdd",
   "metadata": {},
   "outputs": [],
   "source": [
    "#Using the simple imputer to fill the missing value in the numerical columns\n",
    "from sklearn.impute import SimpleImputer\n",
    "import numpy as np\n",
    "impute = SimpleImputer(missing_values=np.nan,strategy='mean')\n",
    "df['Age'] = impute.fit_transform(df[['Age']])\n",
    "df['Salary'] = impute.fit_transform(df[['Salary']])\n",
    "df['Experience_Years'] = impute.fit_transform(df[['Experience_Years']])"
   ]
  },
  {
   "cell_type": "code",
   "execution_count": 29,
   "id": "47e4d3ba-d9cc-4fe7-85d6-8290ea5e861e",
   "metadata": {},
   "outputs": [],
   "source": [
    "# Coverting to the int type as it stays at as float number\n",
    "df['Age'] = df['Age'].astype(int)\n",
    "df['Salary'] = df['Salary'].astype(int)\n",
    "df['Experience_Years'] = df['Experience_Years'].astype(int)"
   ]
  },
  {
   "cell_type": "code",
   "execution_count": 31,
   "id": "47f25721-9164-4a70-9c16-6f8d901be7ce",
   "metadata": {},
   "outputs": [],
   "source": [
    "#Using the mode to fill the missing categorical column\n",
    "most_frequent_fbs = df['Deparment'].value_counts().index[0]\n",
    "df['Deparment'] = df['Deparment'].fillna(most_frequent_fbs)\n"
   ]
  },
  {
   "cell_type": "code",
   "execution_count": 33,
   "id": "1c6f1dda-2324-444f-8347-51ded1681f8f",
   "metadata": {},
   "outputs": [],
   "source": [
    "# One-hot encoding\n",
    "df = pd.get_dummies(df,columns=['Gender'],dtype=int)"
   ]
  },
  {
   "cell_type": "code",
   "execution_count": 35,
   "id": "b583d61a-4115-423e-8bf4-0bdd84ac6e89",
   "metadata": {},
   "outputs": [],
   "source": [
    "#One-hot encoding\n",
    "df = pd.get_dummies(df,columns=['Deparment'],dtype=int)"
   ]
  },
  {
   "cell_type": "code",
   "execution_count": 37,
   "id": "e2c616a8-8e45-4aa0-8dc6-a8d7d9378eca",
   "metadata": {},
   "outputs": [
    {
     "data": {
      "text/html": [
       "<div>\n",
       "<style scoped>\n",
       "    .dataframe tbody tr th:only-of-type {\n",
       "        vertical-align: middle;\n",
       "    }\n",
       "\n",
       "    .dataframe tbody tr th {\n",
       "        vertical-align: top;\n",
       "    }\n",
       "\n",
       "    .dataframe thead th {\n",
       "        text-align: right;\n",
       "    }\n",
       "</style>\n",
       "<table border=\"1\" class=\"dataframe\">\n",
       "  <thead>\n",
       "    <tr style=\"text-align: right;\">\n",
       "      <th></th>\n",
       "      <th>Employee_ID</th>\n",
       "      <th>Age</th>\n",
       "      <th>Salary</th>\n",
       "      <th>Experience_Years</th>\n",
       "      <th>Gender_Female</th>\n",
       "      <th>Gender_Male</th>\n",
       "      <th>Deparment_Civil</th>\n",
       "      <th>Deparment_EG</th>\n",
       "      <th>Deparment_ICT</th>\n",
       "      <th>Deparment_IT</th>\n",
       "    </tr>\n",
       "  </thead>\n",
       "  <tbody>\n",
       "    <tr>\n",
       "      <th>0</th>\n",
       "      <td>1</td>\n",
       "      <td>51</td>\n",
       "      <td>48795</td>\n",
       "      <td>4</td>\n",
       "      <td>0</td>\n",
       "      <td>1</td>\n",
       "      <td>0</td>\n",
       "      <td>0</td>\n",
       "      <td>0</td>\n",
       "      <td>1</td>\n",
       "    </tr>\n",
       "    <tr>\n",
       "      <th>1</th>\n",
       "      <td>2</td>\n",
       "      <td>35</td>\n",
       "      <td>82588</td>\n",
       "      <td>6</td>\n",
       "      <td>0</td>\n",
       "      <td>1</td>\n",
       "      <td>0</td>\n",
       "      <td>0</td>\n",
       "      <td>0</td>\n",
       "      <td>1</td>\n",
       "    </tr>\n",
       "    <tr>\n",
       "      <th>2</th>\n",
       "      <td>3</td>\n",
       "      <td>37</td>\n",
       "      <td>84713</td>\n",
       "      <td>3</td>\n",
       "      <td>1</td>\n",
       "      <td>0</td>\n",
       "      <td>0</td>\n",
       "      <td>0</td>\n",
       "      <td>0</td>\n",
       "      <td>1</td>\n",
       "    </tr>\n",
       "    <tr>\n",
       "      <th>3</th>\n",
       "      <td>4</td>\n",
       "      <td>60</td>\n",
       "      <td>52211</td>\n",
       "      <td>6</td>\n",
       "      <td>1</td>\n",
       "      <td>0</td>\n",
       "      <td>0</td>\n",
       "      <td>0</td>\n",
       "      <td>1</td>\n",
       "      <td>0</td>\n",
       "    </tr>\n",
       "    <tr>\n",
       "      <th>4</th>\n",
       "      <td>5</td>\n",
       "      <td>34</td>\n",
       "      <td>57951</td>\n",
       "      <td>9</td>\n",
       "      <td>1</td>\n",
       "      <td>0</td>\n",
       "      <td>0</td>\n",
       "      <td>0</td>\n",
       "      <td>0</td>\n",
       "      <td>1</td>\n",
       "    </tr>\n",
       "    <tr>\n",
       "      <th>...</th>\n",
       "      <td>...</td>\n",
       "      <td>...</td>\n",
       "      <td>...</td>\n",
       "      <td>...</td>\n",
       "      <td>...</td>\n",
       "      <td>...</td>\n",
       "      <td>...</td>\n",
       "      <td>...</td>\n",
       "      <td>...</td>\n",
       "      <td>...</td>\n",
       "    </tr>\n",
       "    <tr>\n",
       "      <th>95</th>\n",
       "      <td>96</td>\n",
       "      <td>25</td>\n",
       "      <td>93535</td>\n",
       "      <td>4</td>\n",
       "      <td>1</td>\n",
       "      <td>0</td>\n",
       "      <td>0</td>\n",
       "      <td>1</td>\n",
       "      <td>0</td>\n",
       "      <td>0</td>\n",
       "    </tr>\n",
       "    <tr>\n",
       "      <th>96</th>\n",
       "      <td>97</td>\n",
       "      <td>51</td>\n",
       "      <td>82807</td>\n",
       "      <td>11</td>\n",
       "      <td>0</td>\n",
       "      <td>1</td>\n",
       "      <td>0</td>\n",
       "      <td>0</td>\n",
       "      <td>0</td>\n",
       "      <td>1</td>\n",
       "    </tr>\n",
       "    <tr>\n",
       "      <th>97</th>\n",
       "      <td>98</td>\n",
       "      <td>61</td>\n",
       "      <td>200000</td>\n",
       "      <td>10</td>\n",
       "      <td>1</td>\n",
       "      <td>0</td>\n",
       "      <td>0</td>\n",
       "      <td>0</td>\n",
       "      <td>1</td>\n",
       "      <td>0</td>\n",
       "    </tr>\n",
       "    <tr>\n",
       "      <th>98</th>\n",
       "      <td>99</td>\n",
       "      <td>56</td>\n",
       "      <td>44195</td>\n",
       "      <td>8</td>\n",
       "      <td>0</td>\n",
       "      <td>1</td>\n",
       "      <td>1</td>\n",
       "      <td>0</td>\n",
       "      <td>0</td>\n",
       "      <td>0</td>\n",
       "    </tr>\n",
       "    <tr>\n",
       "      <th>99</th>\n",
       "      <td>100</td>\n",
       "      <td>49</td>\n",
       "      <td>98006</td>\n",
       "      <td>7</td>\n",
       "      <td>0</td>\n",
       "      <td>1</td>\n",
       "      <td>0</td>\n",
       "      <td>0</td>\n",
       "      <td>1</td>\n",
       "      <td>0</td>\n",
       "    </tr>\n",
       "  </tbody>\n",
       "</table>\n",
       "<p>100 rows × 10 columns</p>\n",
       "</div>"
      ],
      "text/plain": [
       "    Employee_ID  Age  Salary  Experience_Years  Gender_Female  Gender_Male  \\\n",
       "0             1   51   48795                 4              0            1   \n",
       "1             2   35   82588                 6              0            1   \n",
       "2             3   37   84713                 3              1            0   \n",
       "3             4   60   52211                 6              1            0   \n",
       "4             5   34   57951                 9              1            0   \n",
       "..          ...  ...     ...               ...            ...          ...   \n",
       "95           96   25   93535                 4              1            0   \n",
       "96           97   51   82807                11              0            1   \n",
       "97           98   61  200000                10              1            0   \n",
       "98           99   56   44195                 8              0            1   \n",
       "99          100   49   98006                 7              0            1   \n",
       "\n",
       "    Deparment_Civil  Deparment_EG  Deparment_ICT  Deparment_IT  \n",
       "0                 0             0              0             1  \n",
       "1                 0             0              0             1  \n",
       "2                 0             0              0             1  \n",
       "3                 0             0              1             0  \n",
       "4                 0             0              0             1  \n",
       "..              ...           ...            ...           ...  \n",
       "95                0             1              0             0  \n",
       "96                0             0              0             1  \n",
       "97                0             0              1             0  \n",
       "98                1             0              0             0  \n",
       "99                0             0              1             0  \n",
       "\n",
       "[100 rows x 10 columns]"
      ]
     },
     "execution_count": 37,
     "metadata": {},
     "output_type": "execute_result"
    }
   ],
   "source": [
    "df"
   ]
  },
  {
   "cell_type": "code",
   "execution_count": 41,
   "id": "60770b7a-c0e1-4f3c-8009-2eb1ee977873",
   "metadata": {},
   "outputs": [
    {
     "data": {
      "image/png": "[encoded data removed]",
      "text/plain": [
       "<Figure size 640x480 with 1 Axes>"
      ]
     },
     "metadata": {},
     "output_type": "display_data"
    }
   ],
   "source": [
    "#Detecting the outlier using the box and whisker plot\n",
    "ax = df.boxplot(column='Age')\n",
    "plt.title('Box Plot of Age')\n",
    "plt.show()"
   ]
  },
  {
   "cell_type": "code",
   "execution_count": 43,
   "id": "4fc77e50-8d7d-460e-a943-729f9a4cf3fe",
   "metadata": {},
   "outputs": [
    {
     "data": {
      "image/png": "[encoded data removed]",
      "text/plain": [
       "<Figure size 640x480 with 1 Axes>"
      ]
     },
     "metadata": {},
     "output_type": "display_data"
    }
   ],
   "source": [
    "# Detecting the outlier using the box and whisker plot\n",
    "ax = df.boxplot(column='Salary')\n",
    "plt.title('Box Plot of Salary')\n",
    "plt.show()"
   ]
  },
  {
   "cell_type": "code",
   "execution_count": 49,
   "id": "04170afe-9b91-4917-bbe2-c258148f3025",
   "metadata": {},
   "outputs": [
    {
     "data": {
      "image/png": "[encoded data removed]",
      "text/plain": [
       "<Figure size 640x480 with 1 Axes>"
      ]
     },
     "metadata": {},
     "output_type": "display_data"
    }
   ],
   "source": [
    "#Doing analyses using various tool and techniques\n",
    "#Quantile-Quantile plot\n",
    "import scipy.stats as stats\n",
    "stats.probplot(df['Salary'],dist=\"norm\",plot=plt)\n",
    "plt.title(\"Q-Q Plot for the salary\")\n",
    "plt.show()"
   ]
  },
  {
   "cell_type": "code",
   "execution_count": 51,
   "id": "72ad4b8b-c320-4a33-a765-e0d7322d13ae",
   "metadata": {},
   "outputs": [
    {
     "data": {
      "image/png": "[encoded data removed]",
      "text/plain": [
       "<Figure size 640x480 with 1 Axes>"
      ]
     },
     "metadata": {},
     "output_type": "display_data"
    }
   ],
   "source": [
    "#Quantile plot\n",
    "sns.ecdfplot(df['Salary'])\n",
    "plt.title(\"Quantile Plot for the salary\")\n",
    "plt.xlabel(\"Salary\")\n",
    "plt.ylabel(\"Cumulative Probability\")\n",
    "plt.show()"
   ]
  },
  {
   "cell_type": "code",
   "execution_count": 53,
   "id": "d1063c9e-4a63-4b8f-9ba3-fd5da7a8cde0",
   "metadata": {},
   "outputs": [
    {
     "name": "stdout",
     "output_type": "stream",
     "text": [
      "min     40205.00\n",
      "25%     56184.25\n",
      "50%     70042.50\n",
      "75%     82665.25\n",
      "max    200000.00\n",
      "Name: Salary, dtype: float64\n"
     ]
    }
   ],
   "source": [
    "#5 number summary for the given dataframe\n",
    "summary = df['Salary'].describe(percentiles=[0.25,0.5,0.75])\n",
    "five_number_summary = summary.loc[['min','25%','50%','75%','max']]\n",
    "print(five_number_summary)"
   ]
  },
  {
   "cell_type": "code",
   "execution_count": 55,
   "id": "dc39e5ed-787d-4d29-ae83-221930915db2",
   "metadata": {},
   "outputs": [
    {
     "data": {
      "image/png": "[encoded data removed]",
      "text/plain": [
       "<Figure size 640x480 with 1 Axes>"
      ]
     },
     "metadata": {},
     "output_type": "display_data"
    }
   ],
   "source": [
    "# for the scatter plot\n",
    "plt.scatter(df['Age'],df['Salary'],color='blue',marker='o')\n",
    "plt.xlabel(\"Age\")\n",
    "plt.ylabel('Salary')\n",
    "plt.title('Age vs Salary Scatter plot')\n",
    "plt.show()"
   ]
  },
  {
   "cell_type": "code",
   "execution_count": 63,
   "id": "bd4fa303-1271-4ed8-9c2a-9b50f8c57541",
   "metadata": {},
   "outputs": [
    {
     "data": {
      "image/png": "[encoded data removed]",
      "text/plain": [
       "<Figure size 640x480 with 1 Axes>"
      ]
     },
     "metadata": {},
     "output_type": "display_data"
    }
   ],
   "source": [
    "# Creating a histogram for the given dataset\n",
    "plt.hist(df['Salary'],bins=5,color='blue',edgecolor='black')\n",
    "plt.xlabel(\"Salary\")\n",
    "plt.ylabel(\"Frequency\")\n",
    "plt.title(\"Histogram for the Salary\")\n",
    "plt.show()"
   ]
  },
  {
   "cell_type": "code",
   "execution_count": 59,
   "id": "44e86d4d-025f-43ec-a3dd-cd13503e30c5",
   "metadata": {},
   "outputs": [
    {
     "name": "stdout",
     "output_type": "stream",
     "text": [
      "    Employee_ID  Age  Salary  Experience_Years  Gender_Female  Gender_Male  \\\n",
      "97           98   61  200000                10              1            0   \n",
      "\n",
      "    Deparment_Civil  Deparment_EG  Deparment_ICT  Deparment_IT  \n",
      "97                0             0              1             0  \n"
     ]
    }
   ],
   "source": [
    "# Detecting the index of the particular outlier in the dataset\n",
    "Outlier = df.loc[df[\"Salary\"] == 200000]\n",
    "print(Outlier)"
   ]
  },
  {
   "cell_type": "code",
   "execution_count": 61,
   "id": "e752616c-b7ca-49a5-839b-b30b33eb3645",
   "metadata": {},
   "outputs": [],
   "source": [
    "# Removing the particular outlier in the row\n",
    "df.drop(index= 97,inplace=True)\n",
    "# Reseting the index for the removed tuple\n",
    "df.reset_index(drop=True,inplace=True)\n",
    "# Removing the Employee_ID and it does not have much significances\n",
    "df.drop(columns=['Employee_ID'],inplace= True)"
   ]
  },
  {
   "cell_type": "code",
   "execution_count": 123,
   "id": "10705675-b598-4b32-a872-c42c3bf08d36",
   "metadata": {},
   "outputs": [],
   "source": [
    "# Test-Train split\n",
    "from sklearn.model_selection import train_test_split\n",
    "y = df.iloc[:,1]\n",
    "X = df.drop(df.columns[1], axis=1)"
   ]
  },
  {
   "cell_type": "code",
   "execution_count": 125,
   "id": "4d46cabf-b4f0-421e-9c81-da9fd0df2a67",
   "metadata": {},
   "outputs": [
    {
     "data": {
      "text/html": [
       "<div>\n",
       "<style scoped>\n",
       "    .dataframe tbody tr th:only-of-type {\n",
       "        vertical-align: middle;\n",
       "    }\n",
       "\n",
       "    .dataframe tbody tr th {\n",
       "        vertical-align: top;\n",
       "    }\n",
       "\n",
       "    .dataframe thead th {\n",
       "        text-align: right;\n",
       "    }\n",
       "</style>\n",
       "<table border=\"1\" class=\"dataframe\">\n",
       "  <thead>\n",
       "    <tr style=\"text-align: right;\">\n",
       "      <th></th>\n",
       "      <th>Age</th>\n",
       "      <th>Experience_Years</th>\n",
       "      <th>Gender_Female</th>\n",
       "      <th>Gender_Male</th>\n",
       "      <th>Deparment_Civil</th>\n",
       "      <th>Deparment_EG</th>\n",
       "      <th>Deparment_ICT</th>\n",
       "      <th>Deparment_IT</th>\n",
       "    </tr>\n",
       "  </thead>\n",
       "  <tbody>\n",
       "    <tr>\n",
       "      <th>0</th>\n",
       "      <td>25</td>\n",
       "      <td>2</td>\n",
       "      <td>0</td>\n",
       "      <td>1</td>\n",
       "      <td>0</td>\n",
       "      <td>0</td>\n",
       "      <td>0</td>\n",
       "      <td>1</td>\n",
       "    </tr>\n",
       "    <tr>\n",
       "      <th>1</th>\n",
       "      <td>30</td>\n",
       "      <td>5</td>\n",
       "      <td>1</td>\n",
       "      <td>0</td>\n",
       "      <td>1</td>\n",
       "      <td>0</td>\n",
       "      <td>0</td>\n",
       "      <td>0</td>\n",
       "    </tr>\n",
       "    <tr>\n",
       "      <th>2</th>\n",
       "      <td>35</td>\n",
       "      <td>7</td>\n",
       "      <td>1</td>\n",
       "      <td>0</td>\n",
       "      <td>0</td>\n",
       "      <td>0</td>\n",
       "      <td>0</td>\n",
       "      <td>1</td>\n",
       "    </tr>\n",
       "    <tr>\n",
       "      <th>3</th>\n",
       "      <td>40</td>\n",
       "      <td>10</td>\n",
       "      <td>0</td>\n",
       "      <td>1</td>\n",
       "      <td>0</td>\n",
       "      <td>0</td>\n",
       "      <td>1</td>\n",
       "      <td>0</td>\n",
       "    </tr>\n",
       "    <tr>\n",
       "      <th>4</th>\n",
       "      <td>29</td>\n",
       "      <td>7</td>\n",
       "      <td>1</td>\n",
       "      <td>0</td>\n",
       "      <td>0</td>\n",
       "      <td>0</td>\n",
       "      <td>0</td>\n",
       "      <td>1</td>\n",
       "    </tr>\n",
       "    <tr>\n",
       "      <th>5</th>\n",
       "      <td>28</td>\n",
       "      <td>3</td>\n",
       "      <td>0</td>\n",
       "      <td>1</td>\n",
       "      <td>0</td>\n",
       "      <td>1</td>\n",
       "      <td>0</td>\n",
       "      <td>0</td>\n",
       "    </tr>\n",
       "    <tr>\n",
       "      <th>6</th>\n",
       "      <td>42</td>\n",
       "      <td>12</td>\n",
       "      <td>0</td>\n",
       "      <td>1</td>\n",
       "      <td>0</td>\n",
       "      <td>0</td>\n",
       "      <td>1</td>\n",
       "      <td>0</td>\n",
       "    </tr>\n",
       "    <tr>\n",
       "      <th>7</th>\n",
       "      <td>34</td>\n",
       "      <td>6</td>\n",
       "      <td>0</td>\n",
       "      <td>1</td>\n",
       "      <td>0</td>\n",
       "      <td>0</td>\n",
       "      <td>0</td>\n",
       "      <td>1</td>\n",
       "    </tr>\n",
       "    <tr>\n",
       "      <th>8</th>\n",
       "      <td>31</td>\n",
       "      <td>8</td>\n",
       "      <td>1</td>\n",
       "      <td>0</td>\n",
       "      <td>1</td>\n",
       "      <td>0</td>\n",
       "      <td>0</td>\n",
       "      <td>0</td>\n",
       "    </tr>\n",
       "  </tbody>\n",
       "</table>\n",
       "</div>"
      ],
      "text/plain": [
       "   Age  Experience_Years  Gender_Female  Gender_Male  Deparment_Civil  \\\n",
       "0   25                 2              0            1                0   \n",
       "1   30                 5              1            0                1   \n",
       "2   35                 7              1            0                0   \n",
       "3   40                10              0            1                0   \n",
       "4   29                 7              1            0                0   \n",
       "5   28                 3              0            1                0   \n",
       "6   42                12              0            1                0   \n",
       "7   34                 6              0            1                0   \n",
       "8   31                 8              1            0                1   \n",
       "\n",
       "   Deparment_EG  Deparment_ICT  Deparment_IT  \n",
       "0             0              0             1  \n",
       "1             0              0             0  \n",
       "2             0              0             1  \n",
       "3             0              1             0  \n",
       "4             0              0             1  \n",
       "5             1              0             0  \n",
       "6             0              1             0  \n",
       "7             0              0             1  \n",
       "8             0              0             0  "
      ]
     },
     "execution_count": 125,
     "metadata": {},
     "output_type": "execute_result"
    }
   ],
   "source": [
    "X"
   ]
  },
  {
   "cell_type": "code",
   "execution_count": 127,
   "id": "4c1e83d4-c82b-4c0b-b0db-0cada0628c17",
   "metadata": {},
   "outputs": [
    {
     "data": {
      "text/plain": [
       "0    40000\n",
       "1    50000\n",
       "2    60000\n",
       "3    70000\n",
       "4    55000\n",
       "5    45000\n",
       "6    65000\n",
       "7    62000\n",
       "8    71888\n",
       "Name: Salary, dtype: int32"
      ]
     },
     "execution_count": 127,
     "metadata": {},
     "output_type": "execute_result"
    }
   ],
   "source": [
    "y"
   ]
  },
  {
   "cell_type": "code",
   "execution_count": 161,
   "id": "32164c17-6afe-4bbf-8700-5278a587801b",
   "metadata": {},
   "outputs": [],
   "source": [
    "# Using the min-max scaling to scale the numberical values\n",
    "from sklearn.preprocessing import MinMaxScaler,StandardScaler\n",
    "X_train,X_test,y_train,y_test = train_test_split(X,y,test_size=0.2,random_state=42)"
   ]
  },
  {
   "cell_type": "code",
   "execution_count": 135,
   "id": "5e4a90e4-55fb-4e7e-b94b-be53527cb762",
   "metadata": {},
   "outputs": [
    {
     "data": {
      "text/html": [
       "<div>\n",
       "<style scoped>\n",
       "    .dataframe tbody tr th:only-of-type {\n",
       "        vertical-align: middle;\n",
       "    }\n",
       "\n",
       "    .dataframe tbody tr th {\n",
       "        vertical-align: top;\n",
       "    }\n",
       "\n",
       "    .dataframe thead th {\n",
       "        text-align: right;\n",
       "    }\n",
       "</style>\n",
       "<table border=\"1\" class=\"dataframe\">\n",
       "  <thead>\n",
       "    <tr style=\"text-align: right;\">\n",
       "      <th></th>\n",
       "      <th>Age</th>\n",
       "      <th>Experience_Years</th>\n",
       "      <th>Gender_Female</th>\n",
       "      <th>Gender_Male</th>\n",
       "      <th>Deparment_Civil</th>\n",
       "      <th>Deparment_EG</th>\n",
       "      <th>Deparment_ICT</th>\n",
       "      <th>Deparment_IT</th>\n",
       "    </tr>\n",
       "  </thead>\n",
       "  <tbody>\n",
       "    <tr>\n",
       "      <th>5</th>\n",
       "      <td>28</td>\n",
       "      <td>3</td>\n",
       "      <td>0</td>\n",
       "      <td>1</td>\n",
       "      <td>0</td>\n",
       "      <td>1</td>\n",
       "      <td>0</td>\n",
       "      <td>0</td>\n",
       "    </tr>\n",
       "    <tr>\n",
       "      <th>0</th>\n",
       "      <td>25</td>\n",
       "      <td>2</td>\n",
       "      <td>0</td>\n",
       "      <td>1</td>\n",
       "      <td>0</td>\n",
       "      <td>0</td>\n",
       "      <td>0</td>\n",
       "      <td>1</td>\n",
       "    </tr>\n",
       "    <tr>\n",
       "      <th>8</th>\n",
       "      <td>31</td>\n",
       "      <td>8</td>\n",
       "      <td>1</td>\n",
       "      <td>0</td>\n",
       "      <td>1</td>\n",
       "      <td>0</td>\n",
       "      <td>0</td>\n",
       "      <td>0</td>\n",
       "    </tr>\n",
       "    <tr>\n",
       "      <th>2</th>\n",
       "      <td>35</td>\n",
       "      <td>7</td>\n",
       "      <td>1</td>\n",
       "      <td>0</td>\n",
       "      <td>0</td>\n",
       "      <td>0</td>\n",
       "      <td>0</td>\n",
       "      <td>1</td>\n",
       "    </tr>\n",
       "    <tr>\n",
       "      <th>4</th>\n",
       "      <td>29</td>\n",
       "      <td>7</td>\n",
       "      <td>1</td>\n",
       "      <td>0</td>\n",
       "      <td>0</td>\n",
       "      <td>0</td>\n",
       "      <td>0</td>\n",
       "      <td>1</td>\n",
       "    </tr>\n",
       "    <tr>\n",
       "      <th>3</th>\n",
       "      <td>40</td>\n",
       "      <td>10</td>\n",
       "      <td>0</td>\n",
       "      <td>1</td>\n",
       "      <td>0</td>\n",
       "      <td>0</td>\n",
       "      <td>1</td>\n",
       "      <td>0</td>\n",
       "    </tr>\n",
       "    <tr>\n",
       "      <th>6</th>\n",
       "      <td>42</td>\n",
       "      <td>12</td>\n",
       "      <td>0</td>\n",
       "      <td>1</td>\n",
       "      <td>0</td>\n",
       "      <td>0</td>\n",
       "      <td>1</td>\n",
       "      <td>0</td>\n",
       "    </tr>\n",
       "  </tbody>\n",
       "</table>\n",
       "</div>"
      ],
      "text/plain": [
       "   Age  Experience_Years  Gender_Female  Gender_Male  Deparment_Civil  \\\n",
       "5   28                 3              0            1                0   \n",
       "0   25                 2              0            1                0   \n",
       "8   31                 8              1            0                1   \n",
       "2   35                 7              1            0                0   \n",
       "4   29                 7              1            0                0   \n",
       "3   40                10              0            1                0   \n",
       "6   42                12              0            1                0   \n",
       "\n",
       "   Deparment_EG  Deparment_ICT  Deparment_IT  \n",
       "5             1              0             0  \n",
       "0             0              0             1  \n",
       "8             0              0             0  \n",
       "2             0              0             1  \n",
       "4             0              0             1  \n",
       "3             0              1             0  \n",
       "6             0              1             0  "
      ]
     },
     "execution_count": 135,
     "metadata": {},
     "output_type": "execute_result"
    }
   ],
   "source": [
    "X_train"
   ]
  },
  {
   "cell_type": "code",
   "execution_count": 145,
   "id": "73ec0483-0686-47d2-94d1-9d341ce1cfec",
   "metadata": {},
   "outputs": [],
   "source": [
    "scaler = MinMaxScaler()\n",
    "X_train[['Age','Experience_Years']] = scaler.fit_transform(X_train[['Age','Experience_Years']])\n",
    "X_test[['Age','Experience_Years']] = scaler.fit_transform(X_test[['Age','Experience_Years']])"
   ]
  },
  {
   "cell_type": "code",
   "execution_count": 147,
   "id": "3842e47b-2038-4358-b571-0ca5c800ba46",
   "metadata": {},
   "outputs": [
    {
     "data": {
      "text/html": [
       "<div>\n",
       "<style scoped>\n",
       "    .dataframe tbody tr th:only-of-type {\n",
       "        vertical-align: middle;\n",
       "    }\n",
       "\n",
       "    .dataframe tbody tr th {\n",
       "        vertical-align: top;\n",
       "    }\n",
       "\n",
       "    .dataframe thead th {\n",
       "        text-align: right;\n",
       "    }\n",
       "</style>\n",
       "<table border=\"1\" class=\"dataframe\">\n",
       "  <thead>\n",
       "    <tr style=\"text-align: right;\">\n",
       "      <th></th>\n",
       "      <th>Age</th>\n",
       "      <th>Experience_Years</th>\n",
       "      <th>Gender_Female</th>\n",
       "      <th>Gender_Male</th>\n",
       "      <th>Deparment_Civil</th>\n",
       "      <th>Deparment_EG</th>\n",
       "      <th>Deparment_ICT</th>\n",
       "      <th>Deparment_IT</th>\n",
       "    </tr>\n",
       "  </thead>\n",
       "  <tbody>\n",
       "    <tr>\n",
       "      <th>5</th>\n",
       "      <td>0.176471</td>\n",
       "      <td>0.1</td>\n",
       "      <td>0</td>\n",
       "      <td>1</td>\n",
       "      <td>0</td>\n",
       "      <td>1</td>\n",
       "      <td>0</td>\n",
       "      <td>0</td>\n",
       "    </tr>\n",
       "    <tr>\n",
       "      <th>0</th>\n",
       "      <td>0.000000</td>\n",
       "      <td>0.0</td>\n",
       "      <td>0</td>\n",
       "      <td>1</td>\n",
       "      <td>0</td>\n",
       "      <td>0</td>\n",
       "      <td>0</td>\n",
       "      <td>1</td>\n",
       "    </tr>\n",
       "    <tr>\n",
       "      <th>8</th>\n",
       "      <td>0.352941</td>\n",
       "      <td>0.6</td>\n",
       "      <td>1</td>\n",
       "      <td>0</td>\n",
       "      <td>1</td>\n",
       "      <td>0</td>\n",
       "      <td>0</td>\n",
       "      <td>0</td>\n",
       "    </tr>\n",
       "    <tr>\n",
       "      <th>2</th>\n",
       "      <td>0.588235</td>\n",
       "      <td>0.5</td>\n",
       "      <td>1</td>\n",
       "      <td>0</td>\n",
       "      <td>0</td>\n",
       "      <td>0</td>\n",
       "      <td>0</td>\n",
       "      <td>1</td>\n",
       "    </tr>\n",
       "    <tr>\n",
       "      <th>4</th>\n",
       "      <td>0.235294</td>\n",
       "      <td>0.5</td>\n",
       "      <td>1</td>\n",
       "      <td>0</td>\n",
       "      <td>0</td>\n",
       "      <td>0</td>\n",
       "      <td>0</td>\n",
       "      <td>1</td>\n",
       "    </tr>\n",
       "    <tr>\n",
       "      <th>3</th>\n",
       "      <td>0.882353</td>\n",
       "      <td>0.8</td>\n",
       "      <td>0</td>\n",
       "      <td>1</td>\n",
       "      <td>0</td>\n",
       "      <td>0</td>\n",
       "      <td>1</td>\n",
       "      <td>0</td>\n",
       "    </tr>\n",
       "    <tr>\n",
       "      <th>6</th>\n",
       "      <td>1.000000</td>\n",
       "      <td>1.0</td>\n",
       "      <td>0</td>\n",
       "      <td>1</td>\n",
       "      <td>0</td>\n",
       "      <td>0</td>\n",
       "      <td>1</td>\n",
       "      <td>0</td>\n",
       "    </tr>\n",
       "  </tbody>\n",
       "</table>\n",
       "</div>"
      ],
      "text/plain": [
       "        Age  Experience_Years  Gender_Female  Gender_Male  Deparment_Civil  \\\n",
       "5  0.176471               0.1              0            1                0   \n",
       "0  0.000000               0.0              0            1                0   \n",
       "8  0.352941               0.6              1            0                1   \n",
       "2  0.588235               0.5              1            0                0   \n",
       "4  0.235294               0.5              1            0                0   \n",
       "3  0.882353               0.8              0            1                0   \n",
       "6  1.000000               1.0              0            1                0   \n",
       "\n",
       "   Deparment_EG  Deparment_ICT  Deparment_IT  \n",
       "5             1              0             0  \n",
       "0             0              0             1  \n",
       "8             0              0             0  \n",
       "2             0              0             1  \n",
       "4             0              0             1  \n",
       "3             0              1             0  \n",
       "6             0              1             0  "
      ]
     },
     "execution_count": 147,
     "metadata": {},
     "output_type": "execute_result"
    }
   ],
   "source": [
    "X_train"
   ]
  },
  {
   "cell_type": "code",
   "execution_count": 149,
   "id": "91fd4865-bae0-42ae-b1de-e27e6b399161",
   "metadata": {},
   "outputs": [
    {
     "data": {
      "text/html": [
       "<div>\n",
       "<style scoped>\n",
       "    .dataframe tbody tr th:only-of-type {\n",
       "        vertical-align: middle;\n",
       "    }\n",
       "\n",
       "    .dataframe tbody tr th {\n",
       "        vertical-align: top;\n",
       "    }\n",
       "\n",
       "    .dataframe thead th {\n",
       "        text-align: right;\n",
       "    }\n",
       "</style>\n",
       "<table border=\"1\" class=\"dataframe\">\n",
       "  <thead>\n",
       "    <tr style=\"text-align: right;\">\n",
       "      <th></th>\n",
       "      <th>Age</th>\n",
       "      <th>Experience_Years</th>\n",
       "      <th>Gender_Female</th>\n",
       "      <th>Gender_Male</th>\n",
       "      <th>Deparment_Civil</th>\n",
       "      <th>Deparment_EG</th>\n",
       "      <th>Deparment_ICT</th>\n",
       "      <th>Deparment_IT</th>\n",
       "    </tr>\n",
       "  </thead>\n",
       "  <tbody>\n",
       "    <tr>\n",
       "      <th>7</th>\n",
       "      <td>1.0</td>\n",
       "      <td>1.0</td>\n",
       "      <td>0</td>\n",
       "      <td>1</td>\n",
       "      <td>0</td>\n",
       "      <td>0</td>\n",
       "      <td>0</td>\n",
       "      <td>1</td>\n",
       "    </tr>\n",
       "    <tr>\n",
       "      <th>1</th>\n",
       "      <td>0.0</td>\n",
       "      <td>0.0</td>\n",
       "      <td>1</td>\n",
       "      <td>0</td>\n",
       "      <td>1</td>\n",
       "      <td>0</td>\n",
       "      <td>0</td>\n",
       "      <td>0</td>\n",
       "    </tr>\n",
       "  </tbody>\n",
       "</table>\n",
       "</div>"
      ],
      "text/plain": [
       "   Age  Experience_Years  Gender_Female  Gender_Male  Deparment_Civil  \\\n",
       "7  1.0               1.0              0            1                0   \n",
       "1  0.0               0.0              1            0                1   \n",
       "\n",
       "   Deparment_EG  Deparment_ICT  Deparment_IT  \n",
       "7             0              0             1  \n",
       "1             0              0             0  "
      ]
     },
     "execution_count": 149,
     "metadata": {},
     "output_type": "execute_result"
    }
   ],
   "source": [
    "X_test"
   ]
  },
  {
   "cell_type": "code",
   "execution_count": 153,
   "id": "9ab9e060-c8e7-4d2d-9278-c76d0338c8c6",
   "metadata": {},
   "outputs": [
    {
     "data": {
      "text/plain": [
       "5    45000\n",
       "0    40000\n",
       "8    71888\n",
       "2    60000\n",
       "4    55000\n",
       "3    70000\n",
       "6    65000\n",
       "Name: Salary, dtype: int32"
      ]
     },
     "execution_count": 153,
     "metadata": {},
     "output_type": "execute_result"
    }
   ],
   "source": [
    "y_train"
   ]
  },
  {
   "cell_type": "code",
   "execution_count": 169,
   "id": "6e8f2e6e-70b6-4f03-b0d0-8b8fbde8cb75",
   "metadata": {},
   "outputs": [],
   "source": [
    "y_train= scaler.fit_transform(y_train.values.reshape(-1, 1))\n",
    "\n",
    "\n",
    "y_train = pd.DataFrame(y_train, columns=[\"Salary\"])\n",
    "\n",
    "y_test= scaler.fit_transform(y_test.values.reshape(-1, 1))\n",
    "\n",
    "y_test = pd.DataFrame(y_test, columns=[\"Salary\"])"
   ]
  },
  {
   "cell_type": "code",
   "execution_count": 171,
   "id": "34aeab16-4bd9-498d-946d-603f51f0ebea",
   "metadata": {},
   "outputs": [
    {
     "data": {
      "text/html": [
       "<div>\n",
       "<style scoped>\n",
       "    .dataframe tbody tr th:only-of-type {\n",
       "        vertical-align: middle;\n",
       "    }\n",
       "\n",
       "    .dataframe tbody tr th {\n",
       "        vertical-align: top;\n",
       "    }\n",
       "\n",
       "    .dataframe thead th {\n",
       "        text-align: right;\n",
       "    }\n",
       "</style>\n",
       "<table border=\"1\" class=\"dataframe\">\n",
       "  <thead>\n",
       "    <tr style=\"text-align: right;\">\n",
       "      <th></th>\n",
       "      <th>Salary</th>\n",
       "    </tr>\n",
       "  </thead>\n",
       "  <tbody>\n",
       "    <tr>\n",
       "      <th>0</th>\n",
       "      <td>0.156799</td>\n",
       "    </tr>\n",
       "    <tr>\n",
       "      <th>1</th>\n",
       "      <td>0.000000</td>\n",
       "    </tr>\n",
       "    <tr>\n",
       "      <th>2</th>\n",
       "      <td>1.000000</td>\n",
       "    </tr>\n",
       "    <tr>\n",
       "      <th>3</th>\n",
       "      <td>0.627195</td>\n",
       "    </tr>\n",
       "    <tr>\n",
       "      <th>4</th>\n",
       "      <td>0.470396</td>\n",
       "    </tr>\n",
       "    <tr>\n",
       "      <th>5</th>\n",
       "      <td>0.940793</td>\n",
       "    </tr>\n",
       "    <tr>\n",
       "      <th>6</th>\n",
       "      <td>0.783994</td>\n",
       "    </tr>\n",
       "  </tbody>\n",
       "</table>\n",
       "</div>"
      ],
      "text/plain": [
       "     Salary\n",
       "0  0.156799\n",
       "1  0.000000\n",
       "2  1.000000\n",
       "3  0.627195\n",
       "4  0.470396\n",
       "5  0.940793\n",
       "6  0.783994"
      ]
     },
     "execution_count": 171,
     "metadata": {},
     "output_type": "execute_result"
    }
   ],
   "source": [
    "y_train"
   ]
  },
  {
   "cell_type": "code",
   "execution_count": 173,
   "id": "90a6fdbd-8504-455d-bea5-fe825a44999e",
   "metadata": {},
   "outputs": [
    {
     "data": {
      "text/html": [
       "<div>\n",
       "<style scoped>\n",
       "    .dataframe tbody tr th:only-of-type {\n",
       "        vertical-align: middle;\n",
       "    }\n",
       "\n",
       "    .dataframe tbody tr th {\n",
       "        vertical-align: top;\n",
       "    }\n",
       "\n",
       "    .dataframe thead th {\n",
       "        text-align: right;\n",
       "    }\n",
       "</style>\n",
       "<table border=\"1\" class=\"dataframe\">\n",
       "  <thead>\n",
       "    <tr style=\"text-align: right;\">\n",
       "      <th></th>\n",
       "      <th>Salary</th>\n",
       "    </tr>\n",
       "  </thead>\n",
       "  <tbody>\n",
       "    <tr>\n",
       "      <th>0</th>\n",
       "      <td>1.0</td>\n",
       "    </tr>\n",
       "    <tr>\n",
       "      <th>1</th>\n",
       "      <td>0.0</td>\n",
       "    </tr>\n",
       "  </tbody>\n",
       "</table>\n",
       "</div>"
      ],
      "text/plain": [
       "   Salary\n",
       "0     1.0\n",
       "1     0.0"
      ]
     },
     "execution_count": 173,
     "metadata": {},
     "output_type": "execute_result"
    }
   ],
   "source": [
    "y_test"
   ]
  },
  {
   "cell_type": "code",
   "execution_count": 183,
   "id": "58274309-7dc0-45a7-911d-498237bda98c",
   "metadata": {},
   "outputs": [],
   "source": [
    "df.to_csv(\"Preprocessed_Data.csv\",index=False)"
   ]
  }
 ],
 "metadata": {
  "kernelspec": {
   "display_name": "Python 3 (ipykernel)",
   "language": "python",
   "name": "python3"
  },
  "language_info": {
   "codemirror_mode": {
    "name": "ipython",
    "version": 3
   },
   "file_extension": ".py",
   "mimetype": "text/x-python",
   "name": "python",
   "nbconvert_exporter": "python",
   "pygments_lexer": "ipython3",
   "version": "3.12.4"
  }
 },
 "nbformat": 4,
 "nbformat_minor": 5
}
